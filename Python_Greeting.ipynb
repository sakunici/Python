name = "SuperCat"
age = 25
weight = 50
height = 155
txt = "My name is {} I am {} years old .. my weight is {} kg and tall {} cm"
print(txt.format(name,age,weight,height))
