# Import necessary libraries
import numpy as np
import pandas as pd
from sklearn.model_selection import train_test_split
from sklearn.linear_model import LinearRegression
from sklearn.metrics import mean_squared_error, r2_score

# Example dataset (you can replace this with actual data)
# Let's say we have a simple dataset with two features: square footage and number of bedrooms
data = {
    'square_feet': [1500, 1600, 1700, 1800, 1900, 2000, 2100, 2200],
    'num_bedrooms': [3, 3, 3, 4, 4, 4, 5, 5],
    'price': [300000, 320000, 340000, 360000, 380000, 400000, 420000, 440000]
}

# Convert to DataFrame
df = pd.DataFrame(data)

# Define features (X) and target (y)
X = df[['square_feet', 'num_bedrooms']]
y = df['price']

# Split the dataset into training and testing sets
X_train, X_test, y_train, y_test = train_test_split(X, y, test_size=0.3, random_state=42)

# Initialize the model
model = LinearRegression()

# Train the model
model.fit(X_train, y_train)

# Make predictions on the test set
y_pred = model.predict(X_test)

# Calculate evaluation metrics
mse = mean_squared_error(y_test, y_pred)
r2 = r2_score(y_test, y_pred)

# Print the results
print("Mean Squared Error:", mse)
print("R-squared:", r2)

# Example: Predict the price of a house with 2000 square feet and 4 bedrooms
new_house = np.array([[2000, 4]])
predicted_price = model.predict(new_house)

print("Predicted price for new house:", predicted_price[0])
